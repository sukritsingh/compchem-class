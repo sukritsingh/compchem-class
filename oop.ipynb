{
 "cells": [
  {
   "cell_type": "markdown",
   "metadata": {},
   "source": [
    "[Optional] Introduction to object-oriented programming for scientific modeling.\n",
    "-------------------------------------------------------------------"
   ]
  },
  {
   "cell_type": "markdown",
   "metadata": {},
   "source": [
    "Object-oriented programming (OOP) is a design principle that centralize the role of _data structures_, or _objects_, rather than logic (_functions_).\n",
    "The logic, however sophisticated, can be represented as the interactions among objects, controlled by _methods_ of the _objects_.\n",
    "This design principle encourages the scaling and compartmentalization of software engineering efforts.\n",
    "There are four core structures in object-oriented programming: classes, objects, methods, and attributes."
   ]
  },
  {
   "cell_type": "markdown",
   "metadata": {},
   "source": [
    "### Classes"
   ]
  },
  {
   "cell_type": "markdown",
   "metadata": {},
   "source": [
    "A _class_ is a specific, user-defined data _type_ that restricts the data access to a set of procedures."
   ]
  },
  {
   "cell_type": "code",
   "execution_count": 1,
   "metadata": {},
   "outputs": [],
   "source": [
    "class Human:\n",
    "    def __init__(self, name, birth_year):\n",
    "        self.name = name\n",
    "        self.birth_year = birth_year\n",
    "\n",
    "    def get_age(self):\n",
    "        from datetime import date\n",
    "        return date.today().year - self.birth_year\n",
    "\n",
    "    def is_older_than(self, other):\n",
    "        # self.birth_year < other.birth_year\n",
    "        return self.get_age() > other.get_age()\n",
    "        "
   ]
  },
  {
   "cell_type": "markdown",
   "metadata": {},
   "source": [
    "### Objects"
   ]
  },
  {
   "cell_type": "markdown",
   "metadata": {},
   "source": [
    "Objects are instances of classes. They are created by calling the class as a function, with specific data."
   ]
  },
  {
   "cell_type": "code",
   "execution_count": 4,
   "metadata": {},
   "outputs": [],
   "source": [
    "borges = Human(name=\"borges\", birth_year=1953)\n",
    "cortazar = Human(name=\"cortazar\", birth_year=1014)"
   ]
  },
  {
   "cell_type": "markdown",
   "metadata": {},
   "source": [
    "### Attributes"
   ]
  },
  {
   "cell_type": "markdown",
   "metadata": {},
   "source": [
    "Attributes represent the raw data stored, they can be either intialized with arguments or computed."
   ]
  },
  {
   "cell_type": "code",
   "execution_count": 8,
   "metadata": {},
   "outputs": [
    {
     "data": {
      "text/plain": [
       "(1953, 1014)"
      ]
     },
     "execution_count": 8,
     "metadata": {},
     "output_type": "execute_result"
    }
   ],
   "source": [
    "borges.birth_year, cortazar.birth_year"
   ]
  },
  {
   "cell_type": "markdown",
   "metadata": {},
   "source": [
    "### Methods"
   ]
  },
  {
   "cell_type": "markdown",
   "metadata": {},
   "source": [
    "Methods represent the behavior of an object. They are functions that are defined inside a class and are used to perform operations with the attributes of our objects."
   ]
  },
  {
   "cell_type": "code",
   "execution_count": 9,
   "metadata": {},
   "outputs": [
    {
     "data": {
      "text/plain": [
       "(False, True)"
      ]
     },
     "execution_count": 9,
     "metadata": {},
     "output_type": "execute_result"
    }
   ],
   "source": [
    "borges.is_older_than(cortazar), cortazar.is_older_than(borges)"
   ]
  },
  {
   "cell_type": "markdown",
   "metadata": {},
   "source": [
    "## Principles of object-oriented programming\n",
    "- Inheritance\n",
    "- Encapsulation\n",
    "- Abstraction\n",
    "- Polymorphism"
   ]
  },
  {
   "cell_type": "markdown",
   "metadata": {},
   "source": [
    "## Define your own vector!"
   ]
  },
  {
   "cell_type": "code",
   "execution_count": 11,
   "metadata": {},
   "outputs": [],
   "source": [
    "class Vector:\n",
    "    def __init__(self, data):\n",
    "        self.data = data\n",
    "\n",
    "    def __len__(self):\n",
    "        print(\"greetings!\")\n",
    "        return(len(self.data))\n",
    "\n",
    "    def sum(self):\n",
    "        return sum(self.data)\n",
    "\n",
    "    def mean(self):\n",
    "        return average(self.data)\n",
    "\n",
    "    def __repr__(self):\n",
    "        return str(self.data)\n",
    "\n",
    "    def __add__(self, y):\n",
    "        if isinstance(y, float):\n",
    "            return self.__class__([x + y for x in self.data])\n",
    "        else:\n",
    "            return self.__class__([x + _y for (x, _y) in zip(self.data, y.data)])\n",
    "\n",
    "    def __sub__(self, y):\n",
    "        if isinstance(y, float):\n",
    "            return self.__class__([x - y for x in self.data])\n",
    "        else:\n",
    "            return self.__class__([x - _y for (x, _y) in zip(self.data, y.data)])\n",
    "\n",
    "    def __mul__(self, y):\n",
    "        if isinstance(y, float):\n",
    "            return self.__class__([x * y for x in self.data])\n",
    "        else:\n",
    "            return self.__class__([x * _y for (x, _y) in zip(self.data, y.data)])\n",
    "\n",
    "    def __truediv__(self, y):\n",
    "        if isinstance(y, float):\n",
    "            return self.__class__([x / y for x in self.data])\n",
    "        else:\n",
    "            return self.__class__([x / _y for (x, _y) in zip(self.data, y.data)])\n",
    "\n",
    "    def __pow__(self, y):\n",
    "        return self.__class__([x ** y for x in self.data])\n",
    "\n",
    "    def dot(self, y):\n",
    "        # return sum([x * dog for (x, dog) in zip(self.data, y.data)])\n",
    "        return (self * y).sum()\n"
   ]
  },
  {
   "cell_type": "code",
   "execution_count": 12,
   "metadata": {},
   "outputs": [],
   "source": [
    "v = Vector([0.0, 1.0])"
   ]
  },
  {
   "cell_type": "code",
   "execution_count": 13,
   "metadata": {},
   "outputs": [],
   "source": [
    "v = Vector([0.0, 1.0])\n",
    "u = Vector([3.0, 4.0])"
   ]
  },
  {
   "cell_type": "code",
   "execution_count": 15,
   "metadata": {},
   "outputs": [
    {
     "data": {
      "text/plain": [
       "([3.0, 5.0], [3.0, 3.0], [0.0, 4.0])"
      ]
     },
     "execution_count": 15,
     "metadata": {},
     "output_type": "execute_result"
    }
   ],
   "source": [
    "u + v, u - v, u * v"
   ]
  },
  {
   "cell_type": "code",
   "execution_count": null,
   "metadata": {},
   "outputs": [],
   "source": []
  }
 ],
 "metadata": {
  "kernelspec": {
   "display_name": "openmm",
   "language": "python",
   "name": "python3"
  },
  "language_info": {
   "codemirror_mode": {
    "name": "ipython",
    "version": 3
   },
   "file_extension": ".py",
   "mimetype": "text/x-python",
   "name": "python",
   "nbconvert_exporter": "python",
   "pygments_lexer": "ipython3",
   "version": "3.11.6"
  }
 },
 "nbformat": 4,
 "nbformat_minor": 2
}
