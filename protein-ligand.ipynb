{
 "cells": [
  {
   "cell_type": "markdown",
   "metadata": {},
   "source": [
    "Protein-Ligand Simulation Made Easy\n",
    "-----------------------------------"
   ]
  },
  {
   "cell_type": "markdown",
   "metadata": {},
   "source": [
    "Traditionally, it had been difficult simulating a protein-ligand system,\n",
    "even with `OpenMM`, since the protein and ligand has to be parametrized\n",
    "differently, using two separate force fields.\n",
    "\n",
    "Fortunately, thanks again to machine learning, this process can now\n",
    "be streamlined using just _one_ consistent force field."
   ]
  },
  {
   "cell_type": "code",
   "execution_count": null,
   "metadata": {},
   "outputs": [],
   "source": []
  },
  {
   "cell_type": "markdown",
   "metadata": {},
   "source": []
  }
 ],
 "metadata": {
  "language_info": {
   "name": "python"
  },
  "orig_nbformat": 4
 },
 "nbformat": 4,
 "nbformat_minor": 2
}
