{
 "cells": [
  {
   "cell_type": "markdown",
   "metadata": {},
   "source": [
    "Machine learning potential in `OpenMM`\n",
    "--------------------------------------"
   ]
  },
  {
   "cell_type": "markdown",
   "metadata": {},
   "source": [
    "We have previously shown how to use OpenMM to run molecular dynamics (MD) simulations\n",
    "with [molecular mechanics (MM)](https://en.wikipedia.org/wiki/Molecular_mechanics) force fields."
   ]
  },
  {
   "cell_type": "markdown",
   "metadata": {},
   "source": [
    "Despite remarkable speed ⚡️, MM oversimplifies the interactions among molecules as\n",
    "low-order Fourier series, and harmonic and pairwise terms, and might not be accurate enough\n",
    "on high energy region."
   ]
  },
  {
   "cell_type": "markdown",
   "metadata": {},
   "source": [
    "![MM](mm.png)"
   ]
  },
  {
   "cell_type": "markdown",
   "metadata": {},
   "source": [
    "In this notebook, we replace the traditional MM in `OpenMM` with the popular\n",
    "[machine learning potential](https://en.wikipedia.org/wiki/Machine_learning_potential) \n",
    "that have been rapidly developed in recent years."
   ]
  },
  {
   "cell_type": "markdown",
   "metadata": {},
   "source": [
    "First, we need to intall the `openmmml` package using `conda install -c conda-forge openmm-ml` to complement the `OpenMM` package with\n",
    "ML potential functionality."
   ]
  },
  {
   "cell_type": "markdown",
   "metadata": {},
   "source": [
    "### First simulation with OpenMM-ML"
   ]
  },
  {
   "cell_type": "code",
   "execution_count": 35,
   "metadata": {},
   "outputs": [],
   "source": [
    "import openmm\n",
    "from openmm import app, unit\n",
    "from openmmml import MLPotential"
   ]
  },
  {
   "cell_type": "markdown",
   "metadata": {},
   "source": [
    "The [PDB](https://www.rcsb.org) loading stage is identical to the original `OpenMM` procedure.\n",
    "Here we again load the good old alanine dipeptide example. "
   ]
  },
  {
   "cell_type": "code",
   "execution_count": 36,
   "metadata": {},
   "outputs": [],
   "source": [
    "import urllib\n",
    "urllib.request.urlretrieve(\n",
    "    \"https://raw.githubusercontent.com/openmm/openmm/master/wrappers/python/tests/systems/alanine-dipeptide-explicit.pdb\",\n",
    "    \"input.pdb\"\n",
    ")\n",
    "pdb = app.PDBFile('input.pdb')"
   ]
  },
  {
   "cell_type": "code",
   "execution_count": 37,
   "metadata": {},
   "outputs": [],
   "source": [
    "from openmm.app import Modeller\n",
    "modeller = Modeller(pdb.topology, pdb.positions)\n",
    "modeller.deleteWater()"
   ]
  },
  {
   "cell_type": "markdown",
   "metadata": {},
   "source": [
    "In lieu of a (MM) foce field, we here specify a machine learning potential."
   ]
  },
  {
   "cell_type": "code",
   "execution_count": 38,
   "metadata": {},
   "outputs": [],
   "source": [
    "potential = MLPotential('ani2x')"
   ]
  },
  {
   "cell_type": "markdown",
   "metadata": {},
   "source": [
    "The creation of the system is again very similar to MM.\n",
    "Note that here we don't need to specify specific solvent model etc. since the entire system\n",
    "is treated without distinction by the ML potential.\n",
    "In other words, the machine learning potential only sees a point cloud, without\n",
    "paying attention to which part is solvent, protein, or ligand."
   ]
  },
  {
   "cell_type": "code",
   "execution_count": 39,
   "metadata": {},
   "outputs": [
    {
     "name": "stdout",
     "output_type": "stream",
     "text": [
      "/Users/yuanqingwang/miniconda3/envs/openmm/lib/python3.11/site-packages/torchani/resources/\n",
      "failed to equip `nnpops` with error: No module named 'NNPOps'\n"
     ]
    }
   ],
   "source": [
    "system = potential.createSystem(modeller.topology)"
   ]
  },
  {
   "cell_type": "markdown",
   "metadata": {},
   "source": [
    "Now, to construct an integrator and a simulation is just like before."
   ]
  },
  {
   "cell_type": "code",
   "execution_count": 40,
   "metadata": {},
   "outputs": [],
   "source": [
    "#NOTE:HIDDEN\n",
    "integrator = openmm.LangevinIntegrator(\n",
    "    300*unit.kelvin, \n",
    "    1.0/unit.picoseconds, \n",
    "    2.0*unit.femtoseconds,\n",
    ")"
   ]
  },
  {
   "cell_type": "code",
   "execution_count": 41,
   "metadata": {},
   "outputs": [],
   "source": [
    "#NOTE:HIDDEN\n",
    "simulation = app.Simulation(modeller.topology, system, integrator)"
   ]
  },
  {
   "cell_type": "markdown",
   "metadata": {},
   "source": [
    "And just like before, you can easily set the positions\n",
    "and minimize the energy."
   ]
  },
  {
   "cell_type": "code",
   "execution_count": 43,
   "metadata": {},
   "outputs": [],
   "source": [
    "#NOTE:HIDDEN\n",
    "simulation.context.setPositions(modeller.positions)"
   ]
  },
  {
   "cell_type": "code",
   "execution_count": 44,
   "metadata": {},
   "outputs": [],
   "source": [
    "simulation.minimizeEnergy()"
   ]
  },
  {
   "cell_type": "markdown",
   "metadata": {},
   "source": [
    "Again, we employ a _Reporter_ object to record the simulation."
   ]
  },
  {
   "cell_type": "code",
   "execution_count": 32,
   "metadata": {},
   "outputs": [],
   "source": [
    "simulation.reporters.append(app.PDBReporter('output.pdb', 10))"
   ]
  },
  {
   "cell_type": "markdown",
   "metadata": {},
   "source": [
    "We can now run the simulation."
   ]
  },
  {
   "cell_type": "code",
   "execution_count": 45,
   "metadata": {},
   "outputs": [],
   "source": [
    "simulation.step(100)"
   ]
  },
  {
   "cell_type": "markdown",
   "metadata": {},
   "source": [
    "You can see that the time required to run this simulation (even without explicit water) is significantly longer than with traditional MM force fields."
   ]
  },
  {
   "cell_type": "code",
   "execution_count": 48,
   "metadata": {},
   "outputs": [
    {
     "data": {
      "text/plain": [
       "('ethanol_ccsd_t.zip', <http.client.HTTPMessage at 0x1685bf890>)"
      ]
     },
     "execution_count": 48,
     "metadata": {},
     "output_type": "execute_result"
    }
   ],
   "source": [
    "urllib.request.urlretrieve(\n",
    "    \"http://www.quantum-machine.org/gdml/data/npz/ethanol_ccsd_t.zip\",\n",
    "    \"ethanol_ccsd_t.zip\"\n",
    ")\n",
    "import shutil\n",
    "shutil.unpack_archive(\"ethanol_ccsd_t.zip\", \"ethanol_ccsd_t\")"
   ]
  },
  {
   "cell_type": "code",
   "execution_count": 52,
   "metadata": {},
   "outputs": [],
   "source": [
    "import numpy as np\n",
    "data = np.load('ethanol_ccsd_t/ethanol_ccsd_t-test.npz')"
   ]
  },
  {
   "cell_type": "code",
   "execution_count": 57,
   "metadata": {},
   "outputs": [
    {
     "data": {
      "text/plain": [
       "['E', 'name', 'F', 'theory', 'R', 'z', 'type', 'md5']"
      ]
     },
     "execution_count": 57,
     "metadata": {},
     "output_type": "execute_result"
    }
   ],
   "source": [
    "list(data.keys())"
   ]
  },
  {
   "cell_type": "code",
   "execution_count": 58,
   "metadata": {},
   "outputs": [
    {
     "data": {
      "text/plain": [
       "array([6, 6, 8, 1, 1, 1, 1, 1, 1], dtype=uint8)"
      ]
     },
     "execution_count": 58,
     "metadata": {},
     "output_type": "execute_result"
    }
   ],
   "source": [
    "data[\"z\"]"
   ]
  },
  {
   "cell_type": "markdown",
   "metadata": {},
   "source": [
    "### Exercises\n",
    "- Try a few systems of various sizes and observe how the time requirement scales with the size of the system.\n",
    "And do the same for MM force fields.\n",
    "- Try running this simulation with explicit water."
   ]
  },
  {
   "cell_type": "code",
   "execution_count": null,
   "metadata": {},
   "outputs": [],
   "source": []
  }
 ],
 "metadata": {
  "kernelspec": {
   "display_name": "openmm",
   "language": "python",
   "name": "python3"
  },
  "language_info": {
   "codemirror_mode": {
    "name": "ipython",
    "version": 3
   },
   "file_extension": ".py",
   "mimetype": "text/x-python",
   "name": "python",
   "nbconvert_exporter": "python",
   "pygments_lexer": "ipython3",
   "version": "3.11.6"
  }
 },
 "nbformat": 4,
 "nbformat_minor": 2
}
