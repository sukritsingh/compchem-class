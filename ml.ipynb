{
 "cells": [
  {
   "cell_type": "markdown",
   "metadata": {},
   "source": [
    "We have previously shown how to use OpenMM to run molecular dynamics (MD) simulations\n",
    "with [molecular mechanics (MM)](https://en.wikipedia.org/wiki/Molecular_mechanics) force fields."
   ]
  },
  {
   "cell_type": "markdown",
   "metadata": {},
   "source": [
    "Despite remarkable speed ⚡️, MM oversimplifies the interactions among molecules as\n",
    "low-order Fourier series, and harmonic and pairwise terms, and might not be accurate enough\n",
    "on high energy region."
   ]
  },
  {
   "cell_type": "markdown",
   "metadata": {},
   "source": [
    "![MM](mm.png)"
   ]
  },
  {
   "cell_type": "markdown",
   "metadata": {},
   "source": [
    "In this notebook, we replace the traditional MM in `OpenMM` with the popular\n",
    "[machine learning potential](https://en.wikipedia.org/wiki/Machine_learning_potential) \n",
    "that have been rapidly developed in recent years."
   ]
  },
  {
   "cell_type": "markdown",
   "metadata": {},
   "source": [
    "First, we need to intall the `openmmml` package using `conda install -c conda-forge openmm-ml` to complement the `OpenMM` package with\n",
    "ML potential functionality."
   ]
  },
  {
   "cell_type": "markdown",
   "metadata": {},
   "source": [
    "### First simulation with OpenMM-ML"
   ]
  },
  {
   "cell_type": "code",
   "execution_count": 2,
   "metadata": {},
   "outputs": [],
   "source": [
    "import openmm\n",
    "from openmm import app, unit\n",
    "from openmmml import MLPotential"
   ]
  },
  {
   "cell_type": "markdown",
   "metadata": {},
   "source": [
    "The [PDB](https://www.rcsb.org) loading stage is identical to the original `OpenMM` procedure.\n",
    "Here we again load the good old alanine dipeptide example. "
   ]
  },
  {
   "cell_type": "code",
   "execution_count": 3,
   "metadata": {},
   "outputs": [],
   "source": [
    "import urllib\n",
    "urllib.request.urlretrieve(\n",
    "    \"https://raw.githubusercontent.com/openmm/openmm/master/wrappers/python/tests/systems/alanine-dipeptide-explicit.pdb\",\n",
    "    \"input.pdb\"\n",
    ")\n",
    "pdb = app.PDBFile('input.pdb')"
   ]
  },
  {
   "cell_type": "markdown",
   "metadata": {},
   "source": [
    "In lieu of a (MM) foce field, we here specify a machine learning potential."
   ]
  },
  {
   "cell_type": "code",
   "execution_count": 4,
   "metadata": {},
   "outputs": [],
   "source": [
    "potential = MLPotential('ani2x')"
   ]
  },
  {
   "cell_type": "markdown",
   "metadata": {},
   "source": [
    "The creation of the system is again very similar to MM.\n",
    "Note that here we don't need to specify specific solvent model etc. since the entire system\n",
    "is treated without distinction by the ML potential.\n",
    "In other words, the machine learning potential only sees a point cloud, without\n",
    "paying attention to which part is solvent, protein, or ligand."
   ]
  },
  {
   "cell_type": "code",
   "execution_count": 5,
   "metadata": {},
   "outputs": [
    {
     "name": "stderr",
     "output_type": "stream",
     "text": [
      "/Users/yuanqingwang/miniconda3/envs/openmm/lib/python3.11/site-packages/torchani/aev.py:16: UserWarning: cuaev not installed\n",
      "  warnings.warn(\"cuaev not installed\")\n",
      "/Users/yuanqingwang/miniconda3/envs/openmm/lib/python3.11/site-packages/torchani/__init__.py:55: UserWarning: Dependency not satisfied, torchani.ase will not be available\n",
      "  warnings.warn(\"Dependency not satisfied, torchani.ase will not be available\")\n",
      "Warning: importing 'simtk.openmm' is deprecated.  Import 'openmm' instead.\n"
     ]
    },
    {
     "name": "stdout",
     "output_type": "stream",
     "text": [
      "/Users/yuanqingwang/miniconda3/envs/openmm/lib/python3.11/site-packages/torchani/resources/\n",
      "failed to equip `nnpops` with error: No module named 'NNPOps'\n"
     ]
    }
   ],
   "source": [
    "system = potential.createSystem(pdb.topology)"
   ]
  },
  {
   "cell_type": "markdown",
   "metadata": {},
   "source": [
    "Now, to construct an integrator and a simulation is just like before."
   ]
  },
  {
   "cell_type": "code",
   "execution_count": 6,
   "metadata": {},
   "outputs": [],
   "source": [
    "integrator = openmm.LangevinIntegrator(\n",
    "    300*unit.kelvin, \n",
    "    1.0/unit.picoseconds, \n",
    "    2.0*unit.femtoseconds,\n",
    ")"
   ]
  },
  {
   "cell_type": "code",
   "execution_count": 7,
   "metadata": {},
   "outputs": [],
   "source": [
    "simulation = app.Simulation(pdb.topology, system, integrator)"
   ]
  },
  {
   "cell_type": "code",
   "execution_count": 8,
   "metadata": {},
   "outputs": [],
   "source": [
    "simulation.context.setPositions(pdb.positions)"
   ]
  },
  {
   "cell_type": "code",
   "execution_count": 9,
   "metadata": {},
   "outputs": [],
   "source": [
    "simulation.minimizeEnergy(maxIterations=10)"
   ]
  },
  {
   "cell_type": "code",
   "execution_count": null,
   "metadata": {},
   "outputs": [],
   "source": []
  }
 ],
 "metadata": {
  "kernelspec": {
   "display_name": "openmm",
   "language": "python",
   "name": "python3"
  },
  "language_info": {
   "codemirror_mode": {
    "name": "ipython",
    "version": 3
   },
   "file_extension": ".py",
   "mimetype": "text/x-python",
   "name": "python",
   "nbconvert_exporter": "python",
   "pygments_lexer": "ipython3",
   "version": "3.11.6"
  }
 },
 "nbformat": 4,
 "nbformat_minor": 2
}
