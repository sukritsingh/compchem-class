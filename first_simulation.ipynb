{
 "cells": [
  {
   "cell_type": "markdown",
   "metadata": {},
   "source": [
    "Your first simulation using OpenMM.\n",
    "----------------------------------"
   ]
  },
  {
   "cell_type": "markdown",
   "metadata": {},
   "source": [
    "We first import the \"application layer\" of `OpenMM`---\n",
    "it is a collection of libraries written in Python, which, when chained together,\n",
    "create Python programs that run simulations.\n",
    "\n",
    "If you didn't have previous programming experience in Python,\n",
    "you can simply treat this layer as the \"scripts\" you used in `bash` when\n",
    "you use more traditional simulation packages.\n",
    "If you did, you will see that `OpenMM` adheres to the design principles of \n",
    "object-oriented programming, where components of simulation are abstracted as\n",
    "objects.\n"
   ]
  },
  {
   "cell_type": "code",
   "execution_count": 2,
   "metadata": {},
   "outputs": [],
   "source": [
    "import openmm\n",
    "from openmm import app, unit"
   ]
  },
  {
   "cell_type": "markdown",
   "metadata": {},
   "source": [
    "Also imported at this stage is the `unit` module of `OpenMM`.\n",
    "To be explicit about the units of the simulations is a crucial design choice of\n",
    "`OpenMM`.\n",
    "This helps alleviate any confusions in analyzing the results.\n",
    "\n",
    "As such, quantities with units attached can easily enter the computation,\n",
    "for example:\n"
   ]
  },
  {
   "cell_type": "code",
   "execution_count": 4,
   "metadata": {},
   "outputs": [
    {
     "data": {
      "text/plain": [
       "4.184"
      ]
     },
     "execution_count": 4,
     "metadata": {},
     "output_type": "execute_result"
    }
   ],
   "source": [
    "1 * unit.kilocalorie_per_mole / unit.kilojoule_per_mole"
   ]
  },
  {
   "cell_type": "markdown",
   "metadata": {},
   "source": [
    "Check out this amazing package, 🍻[pint](https://pint.readthedocs.io/en/0.7.2/systems.html), \n",
    "if you also wanted to implement unit system in your scientific computing."
   ]
  },
  {
   "cell_type": "markdown",
   "metadata": {},
   "source": [
    "### System preparation"
   ]
  },
  {
   "cell_type": "markdown",
   "metadata": {},
   "source": [
    "We grab a very toyish🧸 system---alanine dipeptide (which, [like it or not](https://pubs.acs.org/doi/10.1021/ct800153n), is one of the simplest system all computational biophysicists use) and save as a [PDB](https://www.rcsb.org/docs/programmatic-access/file-download-services) file. "
   ]
  },
  {
   "cell_type": "code",
   "execution_count": 5,
   "metadata": {},
   "outputs": [
    {
     "data": {
      "text/plain": [
       "('input.pdb', <http.client.HTTPMessage at 0x116bef850>)"
      ]
     },
     "execution_count": 5,
     "metadata": {},
     "output_type": "execute_result"
    }
   ],
   "source": [
    "import urllib\n",
    "urllib.request.urlretrieve(\n",
    "    \"https://raw.githubusercontent.com/openmm/openmm/master/wrappers/python/tests/systems/alanine-dipeptide-explicit.pdb\",\n",
    "    \"input.pdb\"\n",
    ")"
   ]
  },
  {
   "cell_type": "markdown",
   "metadata": {},
   "source": [
    "We can then read this file into the memory, using the `app` layer of `OpenMM`:"
   ]
  },
  {
   "cell_type": "code",
   "execution_count": 6,
   "metadata": {},
   "outputs": [],
   "source": [
    "pdb = app.PDBFile('input.pdb')"
   ]
  },
  {
   "cell_type": "markdown",
   "metadata": {},
   "source": [
    "### Force field specification"
   ]
  },
  {
   "cell_type": "markdown",
   "metadata": {},
   "source": [
    "Now we have defined the structure of the system, we define the force field with which we will simulate it.\n",
    "In this case it's the [Amber14](http://ambermd.org) force field alongside with [TIP3P](https://pubs.acs.org/doi/10.1021/jp003020w) water model.\n",
    "Note that water molecules are already included for the input this time;\n",
    "in the next example we'll ask you to manually add that."
   ]
  },
  {
   "cell_type": "code",
   "execution_count": 7,
   "metadata": {},
   "outputs": [],
   "source": [
    "forcefield = app.ForceField('amber14-all.xml', 'amber14/tip3pfb.xml')"
   ]
  },
  {
   "cell_type": "markdown",
   "metadata": {},
   "source": [
    "With everything defined, we can go ahead and create the system, with [particle mesh Ewald](https://en.wikipedia.org/wiki/Ewald_summation) as the nonbonded method."
   ]
  },
  {
   "cell_type": "code",
   "execution_count": 8,
   "metadata": {},
   "outputs": [],
   "source": [
    "system = forcefield.createSystem(\n",
    "    pdb.topology, \n",
    "    nonbondedMethod=app.PME,\n",
    "    nonbondedCutoff=1*unit.nanometer, \n",
    "    constraints=app.HBonds,\n",
    ")"
   ]
  },
  {
   "cell_type": "markdown",
   "metadata": {},
   "source": [
    "### Integrator specification"
   ]
  },
  {
   "cell_type": "markdown",
   "metadata": {},
   "source": [
    "Next, we specify a [Langevin](https://en.wikipedia.org/wiki/Langevin_dynamics) integrator, \n",
    "which is another crucial component of molecular dynamcis (MD) simulation.\n",
    "Check out other flavors of integrators [here](http://docs.openmm.org/latest/api-python/library.html#integrators). "
   ]
  },
  {
   "cell_type": "markdown",
   "metadata": {},
   "source": [
    "Here you can specify the temperature, the friction coefficient, and the step size of the integrator\n",
    "to correspond to your simulation needs.\n",
    "A safe choice is:"
   ]
  },
  {
   "cell_type": "code",
   "execution_count": 26,
   "metadata": {},
   "outputs": [],
   "source": [
    "integrator = openmm.LangevinIntegrator(\n",
    "    300*unit.kelvin, \n",
    "    1.0/unit.picoseconds, \n",
    "    2.0*unit.femtoseconds,\n",
    ")"
   ]
  },
  {
   "cell_type": "markdown",
   "metadata": {},
   "source": [
    "### Putting the objects together for the simulation"
   ]
  },
  {
   "cell_type": "markdown",
   "metadata": {},
   "source": [
    "It's now time to put everything together to form a simulation object."
   ]
  },
  {
   "cell_type": "code",
   "execution_count": 17,
   "metadata": {},
   "outputs": [],
   "source": [
    "simulation = app.Simulation(pdb.topology, system, integrator)"
   ]
  },
  {
   "cell_type": "markdown",
   "metadata": {},
   "source": [
    "So far, we have only defined the _structure, or topology_ of the system,\n",
    "now we also grab the _positions, or coördinates_ from the `pdb` file."
   ]
  },
  {
   "cell_type": "code",
   "execution_count": 19,
   "metadata": {},
   "outputs": [],
   "source": [
    "simulation.context.setPositions(pdb.positions)"
   ]
  },
  {
   "cell_type": "markdown",
   "metadata": {},
   "source": [
    "Since there could be some regions in the `pdb` file with high energy conformations\n",
    "(for instance, clashes), we first minimize the energy before starting the simulation."
   ]
  },
  {
   "cell_type": "code",
   "execution_count": 20,
   "metadata": {},
   "outputs": [],
   "source": [
    "simulation.minimizeEnergy()"
   ]
  },
  {
   "cell_type": "markdown",
   "metadata": {},
   "source": [
    "Now we are ready for the simulation, we also need a way to record the simulation\n",
    "for further analysis (otherwise what's the point of simulating 😊).\n",
    "To do so, we attach a PDB reporter to the simulation, with appropriate recording interval.\n",
    "A smaller interval correspond to richer information but more intensive memory usage."
   ]
  },
  {
   "cell_type": "code",
   "execution_count": 46,
   "metadata": {},
   "outputs": [],
   "source": [
    "simulation.reporters.append(app.PDBReporter('output.pdb', 100))"
   ]
  },
  {
   "cell_type": "markdown",
   "metadata": {},
   "source": [
    "It's time to officially hit the run button.\n",
    "Note that the number of steps times the step size (specified above) is the total amount of time to be simulated.\n",
    "Many  event cannot be simulated until the simulation is long enough.\n",
    "But here we only simulate for a short period of time to get our hands dirty. 👋"
   ]
  },
  {
   "cell_type": "code",
   "execution_count": 31,
   "metadata": {},
   "outputs": [],
   "source": [
    "simulation.step(10000)"
   ]
  },
  {
   "cell_type": "markdown",
   "metadata": {},
   "source": [
    "⏳ Voilà! The simulation is done."
   ]
  },
  {
   "cell_type": "markdown",
   "metadata": {},
   "source": [
    "Now we use [`MDTraj`](https://www.mdtraj.org/1.9.8.dev0/index.html) to analyze the trajectory:\n",
    "first we simply load the output trajectory."
   ]
  },
  {
   "cell_type": "code",
   "execution_count": 28,
   "metadata": {},
   "outputs": [],
   "source": [
    "import mdtraj as md\n",
    "traj = md.load('output.pdb')"
   ]
  },
  {
   "cell_type": "markdown",
   "metadata": {},
   "source": [
    "You can visually inspect the movie using [`NGLView`](https://github.com/arose/nglview)."
   ]
  },
  {
   "cell_type": "code",
   "execution_count": 49,
   "metadata": {},
   "outputs": [],
   "source": [
    "import nglview\n",
    "view = nglview.show_mdtraj(traj)"
   ]
  },
  {
   "cell_type": "markdown",
   "metadata": {},
   "source": [
    "One of the first thing we can check about the simluation is the rooted-mean-square-distance (RMSD)\n",
    "of the snapshots w.r.t. the first snapshot, which tells us whether the simulation is stable:"
   ]
  },
  {
   "cell_type": "code",
   "execution_count": 30,
   "metadata": {},
   "outputs": [
    {
     "data": {
      "text/plain": [
       "Text(0, 0.5, 'RMSD (nm)')"
      ]
     },
     "execution_count": 30,
     "metadata": {},
     "output_type": "execute_result"
    },
    {
     "data": {
      "image/png": "[encoded data removed]",
      "text/plain": [
       "<Figure size 400x300 with 1 Axes>"
      ]
     },
     "metadata": {},
     "output_type": "display_data"
    }
   ],
   "source": [
    "from matplotlib import pyplot as plt\n",
    "rmsd = md.rmsd(traj, traj, 0)\n",
    "plt.figure(figsize=(4, 3))\n",
    "plt.plot(rmsd)\n",
    "plt.xlabel('Frame')\n",
    "plt.ylabel('RMSD (nm)')"
   ]
  },
  {
   "cell_type": "markdown",
   "metadata": {},
   "source": [
    "You can also compute a wide range of physical properties using MDTraj."
   ]
  },
  {
   "cell_type": "code",
   "execution_count": 29,
   "metadata": {},
   "outputs": [],
   "source": [
    "md.compute_J3_HN_C(traj); # Compute J couplings in the HN-C plane, which can be observed using NMR spectroscopy\n",
    "md.density(traj); # Compute the density of the system\n",
    "md.shrake_rupley(traj); # Compute the solvent-accessible surface area of the system"
   ]
  },
  {
   "cell_type": "code",
   "execution_count": null,
   "metadata": {},
   "outputs": [],
   "source": []
  }
 ],
 "metadata": {
  "kernelspec": {
   "display_name": "Python 3 (ipykernel)",
   "language": "python",
   "name": "python3"
  },
  "language_info": {
   "codemirror_mode": {
    "name": "ipython",
    "version": 3
   },
   "file_extension": ".py",
   "mimetype": "text/x-python",
   "name": "python",
   "nbconvert_exporter": "python",
   "pygments_lexer": "ipython3",
   "version": "3.11.6"
  }
 },
 "nbformat": 4,
 "nbformat_minor": 4
}
